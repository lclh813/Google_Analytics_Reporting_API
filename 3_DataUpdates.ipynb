{
 "cells": [
  {
   "cell_type": "markdown",
   "metadata": {},
   "source": [
    "# 3. Data Updates"
   ]
  },
  {
   "cell_type": "markdown",
   "metadata": {},
   "source": [
    "## 3.1. Rearrange Dataframe"
   ]
  },
  {
   "cell_type": "code",
   "execution_count": null,
   "metadata": {},
   "outputs": [],
   "source": [
    "oneday_desktop = pd.read_excel(\"oneday.xlsx\", \"desktop\")\n",
    "oneday_mobile = pd.read_excel(\"oneday.xlsx\", \"mobile\")\n",
    "oneday_tablet = pd.read_excel(\"oneday.xlsx\", \"tablet\")\n",
    "period_desktop = pd.read_excel(\"period.xlsx\", \"desktop\")\n",
    "period_mobile = pd.read_excel(\"period.xlsx\", \"mobile\")\n",
    "period_tablet = pd.read_excel(\"period.xlsx\", \"tablet\")"
   ]
  },
  {
   "cell_type": "code",
   "execution_count": null,
   "metadata": {},
   "outputs": [],
   "source": [
    "def df_toint(df, date_type):\n",
    "    df = df.drop([\"deviceCategory\"], axis=0)\n",
    "    df = df.apply(pd.to_numeric)\n",
    "    cols = []\n",
    "    for col in df.columns:\n",
    "        col = col.replace(\"X\", \"\")\n",
    "        col = col.split(\".\")\n",
    "        if date_type == \"oneday\":\n",
    "            col = col[0] + \"/\" + col[1] + \"/\" + col[2] \n",
    "        elif date_type == \"period\":\n",
    "            col = col[0] + \"/\" + col[1] + \"/\" + col[2] + \"-\" + col[3] + \"/\" + col[4] + \"/\" + col[5]            \n",
    "        cols.append(col)\n",
    "    df.columns = cols\n",
    "    return df"
   ]
  },
  {
   "cell_type": "code",
   "execution_count": null,
   "metadata": {},
   "outputs": [],
   "source": [
    "oneday_dfs = [oneday_desktop, oneday_mobile, oneday_tablet]\n",
    "oneday_desktop, oneday_mobile, oneday_tablet = [df_toint(oneday_df, \"oneday\") for oneday_df in oneday_dfs]\n",
    "period_dfs = [period_desktop, period_mobile, period_tablet]\n",
    "period_desktop, period_mobile, period_tablet = [df_toint(period_df, \"period\") for period_df in period_dfs]"
   ]
  },
  {
   "cell_type": "markdown",
   "metadata": {},
   "source": [
    "## 3.2. Update Excel with Extracted Data"
   ]
  },
  {
   "cell_type": "code",
   "execution_count": null,
   "metadata": {},
   "outputs": [],
   "source": [
    "# Run excel in the background.\n",
    "xw.App().visible = False"
   ]
  },
  {
   "cell_type": "code",
   "execution_count": null,
   "metadata": {},
   "outputs": [],
   "source": [
    "# Detemine which workbook to activate.\n",
    "wb = xw.Book(\"performance.xlsx\")"
   ]
  },
  {
   "cell_type": "code",
   "execution_count": null,
   "metadata": {},
   "outputs": [],
   "source": [
    "# Detemine which worksheet to activate.\n",
    "sheet_ga = wb.sheets[\"ga\"]"
   ]
  },
  {
   "cell_type": "code",
   "execution_count": null,
   "metadata": {},
   "outputs": [],
   "source": [
    "# Find the last column of dataframe which is to be written to Excel. \n",
    "oneday_col = sheet_ga.api.UsedRange.Find(oneday_tablet.columns[-1]).address\n",
    "oneday_col = oneday_col.split('$')[1]\n",
    "period_col = sheet_ga.api.UsedRange.Find(period_tablet.columns[-1]).address\n",
    "period_col = period_col.split('$')[1]"
   ]
  },
  {
   "cell_type": "code",
   "execution_count": null,
   "metadata": {},
   "outputs": [],
   "source": [
    "# Specify where to insert the extracted data.\n",
    "def insert_value(sheet_ga, df, col, ga_dict):\n",
    "    for key in ga_dict:\n",
    "        sheet_ga.range(col + str(key)).value = df.iloc[:,-1][ga_dict[key]]  \n",
    "    return sheet_ga"
   ]
  },
  {
   "cell_type": "code",
   "execution_count": null,
   "metadata": {},
   "outputs": [],
   "source": [
    "ga_dict_desktop = {17:\"users\", 18:\"sessions\", 19:\"pageviews\", 20:\"totalEvents\", 21:\"searchSessions\", 22:\"campaignPageviews\"}\n",
    "ga_dict_mobile = {27:\"users\", 28:\"sessions\", 29:\"pageviews\", 30:\"totalEvents\", 31:\"searchSessions\", 32:\"campaignPageviews\"}\n",
    "ga_dict_tablet = {37:\"users\", 38:\"sessions\", 39:\"pageviews\", 40:\"totalEvents\", 41:\"searchSessions\", 42:\"campaignPageviews\"}"
   ]
  },
  {
   "cell_type": "code",
   "execution_count": null,
   "metadata": {},
   "outputs": [],
   "source": [
    "sheet_ga = insert_value(sheet_ga, oneday_desktop, oneday_col, ga_dict_desktop)\n",
    "sheet_ga = insert_value(sheet_ga, oneday_mobile, oneday_col, ga_dict_mobile)\n",
    "sheet_ga = insert_value(sheet_ga, oneday_tablet, oneday_col, ga_dict_tablet)\n",
    "sheet_ga = insert_value(sheet_ga, period_desktop, period_col, ga_dict_desktop)\n",
    "sheet_ga = insert_value(sheet_ga, period_mobile, period_col, ga_dict_mobile)\n",
    "sheet_ga = insert_value(sheet_ga, period_tablet, period_col, ga_dict_tablet)"
   ]
  },
  {
   "cell_type": "code",
   "execution_count": null,
   "metadata": {},
   "outputs": [],
   "source": [
    "# Save and close the workbook.\n",
    "wb.save()\n",
    "wb.close()"
   ]
  }
 ],
 "metadata": {
  "kernelspec": {
   "display_name": "Python 3",
   "language": "python",
   "name": "python3"
  },
  "language_info": {
   "codemirror_mode": {
    "name": "ipython",
    "version": 3
   },
   "file_extension": ".py",
   "mimetype": "text/x-python",
   "name": "python",
   "nbconvert_exporter": "python",
   "pygments_lexer": "ipython3",
   "version": "3.6.5"
  }
 },
 "nbformat": 4,
 "nbformat_minor": 2
}
