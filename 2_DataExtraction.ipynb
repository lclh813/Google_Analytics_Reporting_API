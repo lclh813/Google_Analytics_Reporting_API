{
 "cells": [
  {
   "cell_type": "markdown",
   "metadata": {},
   "source": [
    "# 2. Data Extraction"
   ]
  },
  {
   "cell_type": "markdown",
   "metadata": {},
   "source": [
    "## 2.1. Delete Existing Excel Files"
   ]
  },
  {
   "cell_type": "code",
   "execution_count": null,
   "metadata": {},
   "outputs": [],
   "source": [
    "# Delete existing Excel file which contains information of a given day.\n",
    "if os.path.exists(\"oneday.xlsx\"):\n",
    "    os.remove(\"oneday.xlsx\")\n",
    "    print(\"File removed!\")\n",
    "else:\n",
    "    print(\"The file does not exist!\")"
   ]
  },
  {
   "cell_type": "code",
   "execution_count": null,
   "metadata": {},
   "outputs": [],
   "source": [
    "# Delete existing Excel file which contains information of a given period of time.\n",
    "if os.path.exists(\"period.xlsx\"):\n",
    "    os.remove(\"period.xlsx\")\n",
    "    print(\"File removed!\")\n",
    "else:\n",
    "    print(\"The file does not exist!\")"
   ]
  },
  {
   "cell_type": "markdown",
   "metadata": {},
   "source": [
    "## 2.2. Access Google Analytics API through R\n",
    "Refer to ***Complete R Code*** for the following execution."
   ]
  },
  {
   "cell_type": "code",
   "execution_count": null,
   "metadata": {},
   "outputs": [],
   "source": [
    "robjects.r.source(\"oneday.R\")\n",
    "robjects.r.source(\"period.R\")"
   ]
  }
 ],
 "metadata": {
  "kernelspec": {
   "display_name": "Python 3",
   "language": "python",
   "name": "python3"
  },
  "language_info": {
   "codemirror_mode": {
    "name": "ipython",
    "version": 3
   },
   "file_extension": ".py",
   "mimetype": "text/x-python",
   "name": "python",
   "nbconvert_exporter": "python",
   "pygments_lexer": "ipython3",
   "version": "3.6.5"
  }
 },
 "nbformat": 4,
 "nbformat_minor": 2
}
